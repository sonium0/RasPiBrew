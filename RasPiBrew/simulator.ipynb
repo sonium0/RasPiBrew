{
 "cells": [
  {
   "cell_type": "code",
   "execution_count": 3,
   "metadata": {
    "collapsed": false
   },
   "outputs": [],
   "source": [
    "%matplotlib inline\n",
    "from scipy.constants import zero_Celsius\n",
    "import matplotlib.pyplot as plt\n",
    "import numpy as np\n",
    "\n",
    "from flask import Flask, render_template, request, jsonify\n",
    "\n"
   ]
  },
  {
   "cell_type": "code",
   "execution_count": 14,
   "metadata": {
    "collapsed": false
   },
   "outputs": [
    {
     "data": {
      "text/plain": [
       "<matplotlib.text.Text at 0x106d98898>"
      ]
     },
     "execution_count": 14,
     "metadata": {},
     "output_type": "execute_result"
    },
    {
     "data": {
      "image/png": "[encoded data removed]",
      "text/plain": [
       "<matplotlib.figure.Figure at 0x106947860>"
      ]
     },
     "metadata": {},
     "output_type": "display_data"
    }
   ],
   "source": [
    "import pid\n",
    "\n",
    "class model(object):\n",
    "    def __init__(self, volume, heatpower, loss, roomtemp, T0):\n",
    "        self.volume = volume\n",
    "        self.heatpower = heatpower\n",
    "        self.loss = loss\n",
    "        self.roomtemp = roomtemp\n",
    "        self.T = T0\n",
    "        self.H0 = 0\n",
    "        self.reaction = 0.05\n",
    "        self.pid_value = 0\n",
    "    def step(self, delta):\n",
    "        E0 = self.volume*Cs*self.T\n",
    "        self.H0 = self.H0 + self.reaction*(self.heatpower * self.pid_value - self.H0) * delta\n",
    "        E1 = E0 + self.H0 * delta + self.loss * (self.roomtemp - self.T) * delta\n",
    "        self.T = E1 / (Cs * self.volume)\n",
    "\n",
    "\n",
    "temperatures = []\n",
    "pid_out = []\n",
    "\n",
    "\n",
    "\n",
    "t = np.linspace(0,120,120*60)\n",
    "\n",
    "setpoint = 50\n",
    "volume = 35 # kg\n",
    "heatpower = 1600 # Watt\n",
    "Cs = 4.1813e3 # J/(kg*K)\n",
    "loss = 10 # W/K\n",
    "roomtemp = 25 # C\n",
    "T0 = 15 # C\n",
    "m = model(volume, heatpower, loss, roomtemp, T0)\n",
    "for i in t:\n",
    "    m.step(1)\n",
    "    temperatures.append(m.T)\n",
    "    #pid_value = PID.calcPID_reg4(T, setpoint, True)\n",
    "    if m.T > setpoint:\n",
    "        m.pid_value = 0\n",
    "    else:\n",
    "        m.pid_value = 1\n",
    "    pid_out.append(m.pid_value*heatpower)\n",
    "    \n",
    "plt.plot(t, np.array(temperatures))\n",
    "plt.xlabel('Time [min]')\n",
    "plt.ylabel('Temperature [C]')\n",
    "plt.twinx()\n",
    "plt.plot(t, pid_out, '|r')\n",
    "plt.ylabel('power output [Watt]')\n",
    "\n"
   ]
  },
  {
   "cell_type": "code",
   "execution_count": 10,
   "metadata": {
    "collapsed": false
   },
   "outputs": [],
   "source": [
    "app = Flask(__name__, template_folder='templates')\n",
    "#url_for('static', filename='raspibrew.css')\n",
    "\n",
    "#Parameters that are used in the temperature control process\n",
    "class param:\n",
    "    status = {\n",
    "        \"numTempSensors\" : 0,\n",
    "        \"temp\" : \"0\",\n",
    "        \"tempUnits\" : \"F\",\n",
    "        \"elapsed\" : \"0\",\n",
    "        \"mode\" : \"off\",\n",
    "        \"cycle_time\" : 2.0,\n",
    "        \"duty_cycle\" : 0.0,\n",
    "        \"boil_duty_cycle\" : 60,\n",
    "        \"set_point\" : 0.0,\n",
    "        \"boil_manage_temp\" : 200,\n",
    "        \"num_pnts_smooth\" : 5,\n",
    "        \"k_param\" : 44,\n",
    "        \"i_param\" : 165,\n",
    "        \"d_param\" : 4             \n",
    "    }\n",
    "\n",
    "\n",
    "# main web page    \n",
    "@app.route('/', methods=['GET', 'POST'])\n",
    "def index():\n",
    "    if request.method == 'GET':\n",
    "        #render main page\n",
    "        return render_template(template_name, mode = param.status[\"mode\"], set_point = param.status[\"set_point\"], \\\n",
    "                               duty_cycle = param.status[\"duty_cycle\"], cycle_time = param.status[\"cycle_time\"], \\\n",
    "                               k_param = param.status[\"k_param\"], i_param = param.status[\"i_param\"], \\\n",
    "                               d_param = param.status[\"d_param\"])\n",
    "        \n",
    "    else: #request.method == 'POST' (first temp sensor / backwards compatibility)\n",
    "        # get command from web browser or Android   \n",
    "        #print request.form\n",
    "        param.status[\"mode\"] = request.form[\"mode\"] \n",
    "        param.status[\"set_point\"] = float(request.form[\"setpoint\"])\n",
    "        param.status[\"duty_cycle\"] = float(request.form[\"dutycycle\"]) #is boil duty cycle if mode == \"boil\"\n",
    "        param.status[\"cycle_time\"] = float(request.form[\"cycletime\"])\n",
    "        param.status[\"boil_manage_temp\"] = float(request.form.get(\"boilManageTemp\", param.status[\"boil_manage_temp\"])) \n",
    "        param.status[\"num_pnts_smooth\"] = int(request.form.get(\"numPntsSmooth\", param.status[\"num_pnts_smooth\"])) \n",
    "        param.status[\"k_param\"] = float(request.form[\"k\"])\n",
    "        param.status[\"i_param\"] = float(request.form[\"i\"])\n",
    "        param.status[\"d_param\"] = float(request.form[\"d\"])\n",
    "                \n",
    "        #send to main temp control process \n",
    "        #if did not receive variable key value in POST, the param class default is used\n",
    "        parent_conn.send(param.status)  \n",
    "        \n",
    "        return 'OK'\n",
    "\n",
    "#post params (selectable temp sensor number)    \n",
    "@app.route('/postparams/<sensorNum>', methods=['POST'])\n",
    "def postparams(sensorNum=None):\n",
    "    \n",
    "    param.status[\"mode\"] = request.form[\"mode\"] \n",
    "    param.status[\"set_point\"] = float(request.form[\"setpoint\"])\n",
    "    param.status[\"duty_cycle\"] = float(request.form[\"dutycycle\"]) #is boil duty cycle if mode == \"boil\"\n",
    "    param.status[\"cycle_time\"] = float(request.form[\"cycletime\"])\n",
    "    param.status[\"boil_manage_temp\"] = float(request.form.get(\"boilManageTemp\", param.status[\"boil_manage_temp\"])) \n",
    "    param.status[\"num_pnts_smooth\"] = int(request.form.get(\"numPntsSmooth\", param.status[\"num_pnts_smooth\"]))\n",
    "    param.status[\"k_param\"] = float(request.form[\"k\"])\n",
    "    param.status[\"i_param\"] = float(request.form[\"i\"])\n",
    "    param.status[\"d_param\"] = float(request.form[\"d\"])\n",
    "            \n",
    "    #send to main temp control process \n",
    "    #if did not receive variable key value in POST, the param class default is used\n",
    "    if sensorNum == \"1\":\n",
    "        print(\"got post to temp sensor 1\")\n",
    "        parent_conn.send(param.status)\n",
    "    elif sensorNum == \"2\":\n",
    "        print(\"got post to temp sensor 2\")\n",
    "        if len(pinHeatList) >= 2:\n",
    "            parent_connB.send(param.status)\n",
    "        else:\n",
    "            param.status[\"mode\"] = \"No Temp Control\"\n",
    "            param.status[\"set_point\"] = 0.0\n",
    "            param.status[\"duty_cycle\"] = 0.0 \n",
    "            parent_connB.send(param.status)\n",
    "            print(\"no heat GPIO pin assigned\")\n",
    "    elif sensorNum == \"3\":\n",
    "        print(\"got post to temp sensor 3\")\n",
    "        if len(pinHeatList) >= 3:\n",
    "            parent_connC.send(param.status)\n",
    "        else:\n",
    "            param.status[\"mode\"] = \"No Temp Control\"\n",
    "            param.status[\"set_point\"] = 0.0\n",
    "            param.status[\"duty_cycle\"] = 0.0 \n",
    "            parent_connC.send(param.status)\n",
    "            print(\"no heat GPIO pin assigned\")\n",
    "    else:\n",
    "        print(\"Sensor doesn't exist (POST)\")\n",
    "        \n",
    "    return 'OK'\n",
    "\n",
    "#post GPIO     \n",
    "@app.route('/GPIO_Toggle/<GPIO_Num>/<onoff>', methods=['GET'])\n",
    "def GPIO_Toggle(GPIO_Num=None, onoff=None):\n",
    "    \n",
    "    if len(pinGPIOList) >= int(GPIO_Num):\n",
    "        out = {\"pin\" : pinGPIOList[int(GPIO_Num)-1], \"status\" : \"off\"}\n",
    "        if onoff == \"on\":\n",
    "            GPIO.output(pinGPIOList[int(GPIO_Num)-1], ON)\n",
    "            out[\"status\"] = \"on\"\n",
    "            print(\"GPIO Pin #%s is toggled on\" % pinGPIOList[int(GPIO_Num)-1]) \n",
    "        else: #off\n",
    "            GPIO.output(pinGPIOList[int(GPIO_Num)-1], OFF)\n",
    "            print(\"GPIO Pin #%s is toggled off\" % pinGPIOList[int(GPIO_Num)-1]) \n",
    "    else:\n",
    "        out = {\"pin\" : 0, \"status\" : \"off\"}\n",
    "        \n",
    "    return jsonify(**out)\n",
    "    \n",
    "#get status from RasPiBrew using firefox web browser (first temp sensor / backwards compatibility)\n",
    "@app.route('/getstatus') #only GET\n",
    "def getstatusB():          \n",
    "    #blocking receive - current status    \n",
    "    param.status = statusQ.get()        \n",
    "    return jsonify(**param.status)\n",
    "\n",
    "#get status from RasPiBrew using firefox web browser (selectable temp sensor)\n",
    "@app.route('/getstatus/<sensorNum>') #only GET\n",
    "def getstatus(sensorNum=None):          \n",
    "    #blocking receive - current status\n",
    "    if sensorNum == \"1\":\n",
    "        param.status = statusQ.get()\n",
    "    elif sensorNum == \"2\":\n",
    "        param.status = statusQ_B.get()\n",
    "    elif sensorNum == \"3\":\n",
    "        param.status = statusQ_C.get()\n",
    "    else:\n",
    "        print(\"Sensor doesn't exist (GET)\")\n",
    "        param.status[\"temp\"] = \"-999\"\n",
    "        \n",
    "    return jsonify(**param.status)\n",
    "\n",
    "app.debug = True \n",
    "app.run(use_reloader=False)"
   ]
  },
  {
   "cell_type": "code",
   "execution_count": 4,
   "metadata": {
    "collapsed": false
   },
   "outputs": [],
   "source": []
  },
  {
   "cell_type": "code",
   "execution_count": null,
   "metadata": {
    "collapsed": false
   },
   "outputs": [],
   "source": []
  },
  {
   "cell_type": "code",
   "execution_count": null,
   "metadata": {
    "collapsed": false
   },
   "outputs": [],
   "source": []
  },
  {
   "cell_type": "code",
   "execution_count": null,
   "metadata": {
    "collapsed": true
   },
   "outputs": [],
   "source": []
  }
 ],
 "metadata": {
  "kernelspec": {
   "display_name": "Python 3",
   "language": "python",
   "name": "python3"
  },
  "language_info": {
   "codemirror_mode": {
    "name": "ipython",
    "version": 3
   },
   "file_extension": ".py",
   "mimetype": "text/x-python",
   "name": "python",
   "nbconvert_exporter": "python",
   "pygments_lexer": "ipython3",
   "version": "3.4.3"
  }
 },
 "nbformat": 4,
 "nbformat_minor": 0
}
