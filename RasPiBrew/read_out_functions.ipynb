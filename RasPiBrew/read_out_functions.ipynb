{
 "cells": [
  {
   "cell_type": "code",
   "execution_count": 1,
   "metadata": {
    "collapsed": false
   },
   "outputs": [],
   "source": [
    "import sys\n",
    "if sys.version_info[0] < 3:\n",
    "    # python 2 backwards compatibility\n",
    "    import Queue as queue\n",
    "else:\n",
    "    import queue\n",
    "import threading\n",
    "import os\n",
    "import logging\n",
    "\n",
    "import sqlalchemy\n",
    "from sqlalchemy import create_engine\n",
    "from sqlalchemy.ext.declarative import declarative_base\n",
    "from sqlalchemy import Sequence\n",
    "from sqlalchemy import Column, Integer, Float, Boolean, String\n",
    "from sqlalchemy.orm import sessionmaker\n",
    "from sqlalchemy.orm.scoping import scoped_session"
   ]
  },
  {
   "cell_type": "code",
   "execution_count": 2,
   "metadata": {
    "collapsed": true
   },
   "outputs": [],
   "source": [
    "import time as time_module\n",
    "class Time(object):\n",
    "    def __init__(self, timelapse = 1.0):\n",
    "        self.timelapse = timelapse\n",
    "        self.start_time = time_module.time()\n",
    "    def time(self):\n",
    "        return (time_module.time() - self.start_time) * self.timelapse + self.start_time\n",
    "    def sleep(self, sleeptime):\n",
    "        return time_module.sleep(sleeptime)"
   ]
  },
  {
   "cell_type": "code",
   "execution_count": 3,
   "metadata": {
    "collapsed": false
   },
   "outputs": [],
   "source": [
    "overwrite_db = True\n",
    "if overwrite_db:\n",
    "    os.remove('test.db')\n",
    "engine = create_engine('sqlite:///test.db', echo=False)\n",
    "Base = declarative_base()\n",
    "Base.metadata.create_all(engine)\n",
    "sessionfactory = sessionmaker(bind=engine)"
   ]
  },
  {
   "cell_type": "code",
   "execution_count": 4,
   "metadata": {
    "collapsed": true
   },
   "outputs": [],
   "source": [
    "class TemperatureSensor1(Base):\n",
    "    __tablename__ = 'temperature sensor 1'\n",
    "    id = Column(Integer, Sequence('TemperatureSensor1_id_seq'), primary_key=True)\n",
    "    time = Column(Float) # seconds since the Epoch\n",
    "    temperature = Column(Float) # centigrade\n",
    "\n",
    "    def __repr__(self):\n",
    "        return \"<TemperatureSensor1(time='%f', temperature='%f')>\" % (self.time, self.temperature) \n",
    "\n",
    "def Read_TemperatureSensor1():\n",
    "    session = scoped_session(sessionfactory)\n",
    "    while True:\n",
    "        T=-999.999 # get temperature in centigrade\n",
    "        update = TemperatureSensor1(time=time.time(), temperature=T)\n",
    "        session.add(update)\n",
    "        session.commit()\n",
    "        time.sleep(1)\n",
    "        #now = session.query(TemperatureSensor1).order_by(TemperatureSensor1.id.desc()).first()\n",
    "        #now\n",
    "        #now.time\n",
    "        #now.temperature\n",
    "        #for instance in session.query(TemperatureSensor1).order_by(TemperatureSensor1.id.desc()):\n",
    "            #print instance.time, instance.temperature  "
   ]
  },
  {
   "cell_type": "code",
   "execution_count": 5,
   "metadata": {
    "collapsed": false
   },
   "outputs": [],
   "source": [
    "class Heater1(Base):\n",
    "    __tablename__ = 'heater 1'\n",
    "    id = Column(Integer, Sequence('Heater1_id_seq'), primary_key=True)\n",
    "    time = Column(Float) # seconds since the Epoch\n",
    "    on_state = Column(Boolean) # True is on, False is off\n",
    "\n",
    "    def __repr__(self):\n",
    "        return \"<Heater1(time='%f', on_state='%s')>\" %(self.time, str(self.on_state)) \n",
    "\n",
    "def Read_Heater1():\n",
    "    session = scoped_session(sessionfactory)\n",
    "    while True:\n",
    "        on = True # get temperature in centigrade\n",
    "        update = Heater1(time= time.time(), on_state = on)\n",
    "        session.add(update)\n",
    "        session.commit()\n",
    "        time.sleep(1)\n",
    "        #now = session.query(Heater1).order_by(Heater1.id.desc()).first()\n",
    "        #now\n",
    "        #now.time\n",
    "        #now.temperature\n",
    "        #for instance in session.query(Heater1).order_by(Heater1.id.desc()):\n",
    "            #print instance.time, instance.temperature  "
   ]
  },
  {
   "cell_type": "code",
   "execution_count": 6,
   "metadata": {
    "collapsed": false
   },
   "outputs": [],
   "source": [
    "Base.metadata.create_all(engine)\n",
    "\n",
    "# time = Time() # realtime mode\n",
    "time = Time(timelapse = 2.0) # testing timelapse mode\n",
    "\n",
    "q = queue.Queue()\n",
    "t = threading.Thread(target=Read_TemperatureSensor1)\n",
    "t.daemon = True\n",
    "t.start()\n",
    "time.sleep(.1) # give threads time to populate database"
   ]
  },
  {
   "cell_type": "code",
   "execution_count": 7,
   "metadata": {
    "collapsed": false
   },
   "outputs": [],
   "source": [
    "session = sessionfactory()\n",
    "def get_last(session, table, timeout=2.):\n",
    "    value = session.query(table).order_by(table.id.desc()).first()\n",
    "    if time.time() > value.time + timeout:\n",
    "        logging.warning('last value older than %3.2fs: %s' % (timeout, table))\n",
    "    return value"
   ]
  },
  {
   "cell_type": "code",
   "execution_count": 18,
   "metadata": {
    "collapsed": false
   },
   "outputs": [
    {
     "name": "stdout",
     "output_type": "stream",
     "text": [
      "<TemperatureSensor1(time='1444629786.711926', temperature='-999.999000')>\n"
     ]
    }
   ],
   "source": [
    "print(get_last(session, TemperatureSensor1))"
   ]
  },
  {
   "cell_type": "code",
   "execution_count": null,
   "metadata": {
    "collapsed": false
   },
   "outputs": [],
   "source": []
  },
  {
   "cell_type": "code",
   "execution_count": null,
   "metadata": {
    "collapsed": true
   },
   "outputs": [],
   "source": []
  }
 ],
 "metadata": {
  "kernelspec": {
   "display_name": "Python 3",
   "language": "python",
   "name": "python3"
  },
  "language_info": {
   "codemirror_mode": {
    "name": "ipython",
    "version": 3
   },
   "file_extension": ".py",
   "mimetype": "text/x-python",
   "name": "python",
   "nbconvert_exporter": "python",
   "pygments_lexer": "ipython3",
   "version": "3.4.3"
  }
 },
 "nbformat": 4,
 "nbformat_minor": 0
}
