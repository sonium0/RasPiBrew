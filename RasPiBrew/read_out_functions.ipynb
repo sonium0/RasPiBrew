{
 "cells": [
  {
   "cell_type": "code",
   "execution_count": 1,
   "metadata": {
    "collapsed": false
   },
   "outputs": [],
   "source": [
    "import sqlalchemy\n",
    "from sqlalchemy import create_engine\n",
    "from sqlalchemy.ext.declarative import declarative_base\n",
    "from sqlalchemy import Sequence\n",
    "from sqlalchemy import Column, Integer, Float, Boolean, String\n",
    "from sqlalchemy.orm import sessionmaker\n",
    "from sqlalchemy.orm.scoping import scoped_session"
   ]
  },
  {
   "cell_type": "code",
   "execution_count": 2,
   "metadata": {
    "collapsed": true
   },
   "outputs": [],
   "source": [
    "import time"
   ]
  },
  {
   "cell_type": "code",
   "execution_count": 3,
   "metadata": {
    "collapsed": false
   },
   "outputs": [],
   "source": [
    "engine = create_engine('sqlite:///test.db', echo=False)\n",
    "BASE = declarative_base()\n",
    "BASE.metadata.create_all(engine)\n",
    "sessionfactory = sessionmaker(bind=engine)\n",
    "session = scoped_session(sessionfactory)"
   ]
  },
  {
   "cell_type": "code",
   "execution_count": 4,
   "metadata": {
    "collapsed": true
   },
   "outputs": [],
   "source": [
    "class TemperatureSensor1(BASE):\n",
    "    __tablename__ = 'temperature sensor 1'\n",
    "    id = Column(Integer, Sequence('TemperatureSensor1_id_seq'), primary_key=True)\n",
    "    time = Column(Float) # seconds since the Epoch\n",
    "    temperature = Column(Float) # centigrade\n",
    "\n",
    "    def __repr__(self):\n",
    "        return \"<TemperatureSensor1(time='%f', temperature='%f')>\" % (self.time, self.temperature) \n",
    "\n",
    "def Read_TemperatureSensor1():\n",
    "    while True:\n",
    "        T=-999.999 # get temperature in centigrade\n",
    "        update = TemperatureSensor1(time=time.time(), temperature=T)\n",
    "        session.add(update)\n",
    "        session.commit()\n",
    "        #now = session.query(TemperatureSensor1).order_by(TemperatureSensor1.id.desc()).first()\n",
    "        #now\n",
    "        #now.time\n",
    "        #now.temperature\n",
    "        #for instance in session.query(TemperatureSensor1).order_by(TemperatureSensor1.id.desc()):\n",
    "            #print instance.time, instance.temperature  "
   ]
  },
  {
   "cell_type": "code",
   "execution_count": 5,
   "metadata": {
    "collapsed": false
   },
   "outputs": [],
   "source": [
    "class Heater1(BASE):\n",
    "    __tablename__ = 'heater 1'\n",
    "    id = Column(Integer, Sequence('Heater1_id_seq'), primary_key=True)\n",
    "    time = Column(Float) # seconds since the Epoch\n",
    "    on_state = Column(Boolean) # True is on, False is off\n",
    "\n",
    "    def __repr__(self):\n",
    "        return \"<Heater1(time='%f', on_state='%s')>\" %(self.time, str(self.on_state)) \n",
    "\n",
    "def Read_Heater1():\n",
    "    while True:\n",
    "        on = True # get temperature in centigrade\n",
    "        update = Heater1(time= time.time(), on_state = on)\n",
    "        session.add(update)\n",
    "        session.commit()\n",
    "        #now = session.query(Heater1).order_by(Heater1.id.desc()).first()\n",
    "        #now\n",
    "        #now.time\n",
    "        #now.temperature\n",
    "        #for instance in session.query(Heater1).order_by(Heater1.id.desc()):\n",
    "            #print instance.time, instance.temperature  "
   ]
  },
  {
   "cell_type": "code",
   "execution_count": null,
   "metadata": {
    "collapsed": true
   },
   "outputs": [],
   "source": []
  },
  {
   "cell_type": "code",
   "execution_count": null,
   "metadata": {
    "collapsed": true
   },
   "outputs": [],
   "source": []
  },
  {
   "cell_type": "code",
   "execution_count": null,
   "metadata": {
    "collapsed": true
   },
   "outputs": [],
   "source": []
  }
 ],
 "metadata": {
  "kernelspec": {
   "display_name": "Python 3",
   "language": "python",
   "name": "python3"
  },
  "language_info": {
   "codemirror_mode": {
    "name": "ipython",
    "version": 3
   },
   "file_extension": ".py",
   "mimetype": "text/x-python",
   "name": "python",
   "nbconvert_exporter": "python",
   "pygments_lexer": "ipython3",
   "version": "3.4.3"
  }
 },
 "nbformat": 4,
 "nbformat_minor": 0
}
