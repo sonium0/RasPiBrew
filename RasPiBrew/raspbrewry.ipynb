{
 "cells": [
  {
   "cell_type": "code",
   "execution_count": 1,
   "metadata": {
    "collapsed": false
   },
   "outputs": [],
   "source": [
    "import sys\n",
    "if sys.version_info[0] < 3:\n",
    "    # python 2 backwards compatibility\n",
    "    import Queue as queue\n",
    "else:\n",
    "    import queue\n",
    "import threading\n",
    "import os\n",
    "import logging\n",
    "\n",
    "from scipy.constants import zero_Celsius\n",
    "import numpy as np\n",
    "\n",
    "import sqlalchemy\n",
    "from sqlalchemy import create_engine\n",
    "from sqlalchemy.ext.declarative import declarative_base\n",
    "from sqlalchemy import Sequence\n",
    "from sqlalchemy import Column, Integer, Float, Boolean, String\n",
    "from sqlalchemy.orm import sessionmaker\n",
    "from sqlalchemy.orm.scoping import scoped_session\n",
    "\n",
    "logger = logging.getLogger('raspbrewry')\n",
    "logger.setLevel(logging.DEBUG)\n",
    "\n",
    "simulation = threading.Event()"
   ]
  },
  {
   "cell_type": "code",
   "execution_count": 2,
   "metadata": {
    "collapsed": true
   },
   "outputs": [],
   "source": [
    "import time as time_module\n",
    "class Time(object):\n",
    "    def __init__(self, timelapse = 1.0):\n",
    "        self.timelapse = timelapse\n",
    "        self.start_time = time_module.time()\n",
    "    def time(self):\n",
    "        return (time_module.time() - self.start_time) * self.timelapse + self.start_time\n",
    "    def sleep(self, sleeptime):\n",
    "        return time_module.sleep(sleeptime)"
   ]
  },
  {
   "cell_type": "code",
   "execution_count": 3,
   "metadata": {
    "collapsed": false
   },
   "outputs": [],
   "source": [
    "overwrite_db = True\n",
    "if overwrite_db:\n",
    "    os.remove('test.db')\n",
    "engine = create_engine('sqlite:///test.db', echo=False)\n",
    "Base = declarative_base()\n",
    "Base.metadata.create_all(engine)\n",
    "sessionfactory = sessionmaker(bind=engine)\n",
    "terminate = threading.Event()"
   ]
  },
  {
   "cell_type": "code",
   "execution_count": 4,
   "metadata": {
    "collapsed": true
   },
   "outputs": [],
   "source": [
    "class TemperatureSensor1(Base):\n",
    "    __tablename__ = 'temperature sensor 1'\n",
    "    id = Column(Integer, Sequence('TemperatureSensor1_id_seq'), primary_key=True)\n",
    "    time = Column(Float) # seconds since the Epoch\n",
    "    temperature = Column(Float) # centigrade\n",
    "\n",
    "    def __repr__(self):\n",
    "        return \"<TemperatureSensor1(time='%f', temperature='%f')>\" % (self.time, self.temperature) \n",
    "\n",
    "def Read_TemperatureSensor1():\n",
    "    logger.info('starting Read_TemperatureSensor1')\n",
    "    session = scoped_session(sessionfactory)\n",
    "    while not terminate.is_set():\n",
    "        if simulation.is_set():\n",
    "            T=model.T\n",
    "        else:\n",
    "            T=-999.999 # get temperature in centigrade\n",
    "        update = TemperatureSensor1(time=time.time(), temperature=T)\n",
    "        session.add(update)\n",
    "        session.commit()\n",
    "        time.sleep(1)\n",
    "        #now = session.query(TemperatureSensor1).order_by(TemperatureSensor1.id.desc()).first()\n",
    "        #now\n",
    "        #now.time\n",
    "        #now.temperature\n",
    "        #for instance in session.query(TemperatureSensor1).order_by(TemperatureSensor1.id.desc()):\n",
    "            #print instance.time, instance.temperature \n",
    "    logger.info('terminating Read_TemperatureSensor1')"
   ]
  },
  {
   "cell_type": "code",
   "execution_count": 5,
   "metadata": {
    "collapsed": false
   },
   "outputs": [],
   "source": [
    "class Heater1(Base):\n",
    "    __tablename__ = 'heater 1'\n",
    "    id = Column(Integer, Sequence('Heater1_id_seq'), primary_key=True)\n",
    "    time = Column(Float) # seconds since the Epoch\n",
    "    on_state = Column(Boolean) # True is on, False is off\n",
    "\n",
    "    def __repr__(self):\n",
    "        return \"<Heater1(time='%f', on_state='%s')>\" %(self.time, str(self.on_state)) \n",
    "\n",
    "def Read_Heater1():\n",
    "    logger.info('starting Read_Heater1')\n",
    "    session = scoped_session(sessionfactory)\n",
    "    while not terminate.is_set():\n",
    "        on = True\n",
    "        off = False\n",
    "        update = Heater1(time=time.time(), on_state = on)\n",
    "        session.add(update)\n",
    "        session.commit()\n",
    "        time.sleep(1)\n",
    "        #now = session.query(Heater1).order_by(Heater1.id.desc()).first()\n",
    "        #now\n",
    "        #now.time\n",
    "        #now.temperature\n",
    "        #for instance in session.query(Heater1).order_by(Heater1.id.desc()):\n",
    "            #print instance.time, instance.temperature\n",
    "    logger.info('terminating Read_Heater1')"
   ]
  },
  {
   "cell_type": "code",
   "execution_count": 6,
   "metadata": {
    "collapsed": false
   },
   "outputs": [],
   "source": [
    "class Model(object):\n",
    "    def __init__(self, volume, heatpower, loss, roomtemp, T0):\n",
    "        self.volume = volume\n",
    "        self.heatpower = heatpower\n",
    "        self.loss = loss\n",
    "        self.roomtemp = roomtemp\n",
    "        self.T = T0\n",
    "        self.H0 = 0\n",
    "        self.reaction = 0.05\n",
    "        self.pid_value = 0\n",
    "        self.Cs = 4.1813e3 # J/(kg*K)\n",
    "    def step(self, delta):\n",
    "        E0 = self.volume*self.Cs*self.T\n",
    "        self.H0 = self.H0 + self.reaction*(self.heatpower * self.pid_value - self.H0) * delta\n",
    "        E1 = E0 + self.H0 * delta + self.loss * (self.roomtemp - self.T) * delta\n",
    "        self.T = E1 / (self.Cs * self.volume)\n",
    "    def simulate(self):\n",
    "        logger.info('starting simulation')\n",
    "        simulation.set()\n",
    "        while not terminate.is_set():\n",
    "            self.step(1)\n",
    "            time.sleep(1)\n",
    "        logger.info('terminating simulation')\n",
    "\n",
    "volume = 35 # kg\n",
    "heatpower = 1600 # Watt\n",
    "loss = 10 # W/K\n",
    "roomtemp = 25 # C\n",
    "T0 = 15 # C\n",
    "model = Model(volume, heatpower, loss, roomtemp, T0)\n",
    "\n",
    "    "
   ]
  },
  {
   "cell_type": "code",
   "execution_count": 7,
   "metadata": {
    "collapsed": false
   },
   "outputs": [
    {
     "name": "stderr",
     "output_type": "stream",
     "text": [
      "INFO:raspbrewry:starting simulation\n",
      "INFO:raspbrewry:starting Read_TemperatureSensor1\n",
      "INFO:raspbrewry:starting Read_Heater1\n"
     ]
    }
   ],
   "source": [
    "Base.metadata.create_all(engine)\n",
    "\n",
    "# time = Time() # realtime mode\n",
    "time = Time(timelapse = 10.0) # testing timelapse mode\n",
    "q = queue.Queue()\n",
    "\n",
    "t = threading.Thread(target=model.simulate)\n",
    "t.daemon = True\n",
    "t.start()\n",
    "\n",
    "t = threading.Thread(target=Read_TemperatureSensor1)\n",
    "t.daemon = True\n",
    "t.start()\n",
    "\n",
    "t = threading.Thread(target=Read_Heater1)\n",
    "t.daemon = True\n",
    "t.start()\n",
    "time.sleep(.1) # give threads time to populate database"
   ]
  },
  {
   "cell_type": "code",
   "execution_count": 8,
   "metadata": {
    "collapsed": false
   },
   "outputs": [],
   "source": [
    "session = sessionfactory()\n",
    "def get_last(session, table, timeout=2.):\n",
    "    value = session.query(table).order_by(table.id.desc()).first()\n",
    "    if time.time() > value.time + timeout:\n",
    "        logger.warning('last value older than %3.2fs: %s' % (timeout, table))\n",
    "    return value"
   ]
  },
  {
   "cell_type": "code",
   "execution_count": 9,
   "metadata": {
    "collapsed": false
   },
   "outputs": [
    {
     "name": "stderr",
     "output_type": "stream",
     "text": [
      "WARNING:raspbrewry:last value older than 2.00s: <class '__main__.TemperatureSensor1'>\n",
      "WARNING:raspbrewry:last value older than 2.00s: <class '__main__.Heater1'>\n"
     ]
    },
    {
     "name": "stdout",
     "output_type": "stream",
     "text": [
      "<TemperatureSensor1(time='1444673776.292019', temperature='15.003416')>\n",
      "<Heater1(time='1444673776.286450', on_state='True')>\n"
     ]
    }
   ],
   "source": [
    "\n",
    "print(get_last(session, TemperatureSensor1))\n",
    "print(get_last(session, Heater1))"
   ]
  },
  {
   "cell_type": "code",
   "execution_count": 55,
   "metadata": {
    "collapsed": false
   },
   "outputs": [
    {
     "name": "stderr",
     "output_type": "stream",
     "text": [
      "INFO:raspbrewry:terminating Read_TemperatureSensor1\n",
      "INFO:raspbrewry:terminating Read_Heater1\n"
     ]
    }
   ],
   "source": [
    "terminate.set() # shut theads down"
   ]
  },
  {
   "cell_type": "code",
   "execution_count": 49,
   "metadata": {
    "collapsed": false
   },
   "outputs": [],
   "source": []
  },
  {
   "cell_type": "code",
   "execution_count": 12,
   "metadata": {
    "collapsed": false
   },
   "outputs": [
    {
     "data": {
      "text/plain": [
       "[<matplotlib.lines.Line2D at 0x1062476d8>]"
      ]
     },
     "execution_count": 12,
     "metadata": {},
     "output_type": "execute_result"
    },
    {
     "data": {
      "image/png": "[encoded data removed]",
      "text/plain": [
       "<matplotlib.figure.Figure at 0x10605cef0>"
      ]
     },
     "metadata": {},
     "output_type": "display_data"
    }
   ],
   "source": [
    "%matplotlib inline\n",
    "import matplotlib.pyplot as plt\n",
    "query = session.query(TemperatureSensor1.temperature).order_by(TemperatureSensor1.id)\n",
    "plt.plot([r for r, in query.all()])"
   ]
  },
  {
   "cell_type": "code",
   "execution_count": null,
   "metadata": {
    "collapsed": true
   },
   "outputs": [],
   "source": []
  },
  {
   "cell_type": "code",
   "execution_count": null,
   "metadata": {
    "collapsed": true
   },
   "outputs": [],
   "source": []
  }
 ],
 "metadata": {
  "kernelspec": {
   "display_name": "Python 3",
   "language": "python",
   "name": "python3"
  },
  "language_info": {
   "codemirror_mode": {
    "name": "ipython",
    "version": 3
   },
   "file_extension": ".py",
   "mimetype": "text/x-python",
   "name": "python",
   "nbconvert_exporter": "python",
   "pygments_lexer": "ipython3",
   "version": "3.4.3"
  }
 },
 "nbformat": 4,
 "nbformat_minor": 0
}
